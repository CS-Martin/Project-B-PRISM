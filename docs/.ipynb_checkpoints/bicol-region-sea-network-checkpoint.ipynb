{
 "cells": [
  {
   "cell_type": "markdown",
   "id": "ddcd4a1a-cde4-48bf-8710-6c86165ab91a",
   "metadata": {},
   "source": [
    "## The goal is to fetch Bicol Region sea route transport network"
   ]
  },
  {
   "cell_type": "markdown",
   "id": "0a9cd577-1bbf-48f8-8490-261306723aca",
   "metadata": {},
   "source": [
    "### 0. Install dependencies"
   ]
  },
  {
   "cell_type": "code",
   "execution_count": 5,
   "id": "2b6fc2aa-2683-4f72-b93c-e71cc1ce1a95",
   "metadata": {},
   "outputs": [],
   "source": [
    "from folium.plugins import MarkerCluster\n",
    "import pandas as pd\n",
    "import osmnx as ox\n",
    "import networkx as nx\n",
    "import folium\n",
    "import os"
   ]
  },
  {
   "cell_type": "markdown",
   "id": "9cd6c345-5eb9-4ef4-8f4a-9f34d8997108",
   "metadata": {},
   "source": [
    "### 1. Define the places and create a directed empty multigraph to combine all places"
   ]
  },
  {
   "cell_type": "code",
   "execution_count": 6,
   "id": "73e40fa3-a810-4a0f-a5ce-8ab7ed06b25a",
   "metadata": {},
   "outputs": [],
   "source": [
    "# Define the individual places in Bicol Region\n",
    "places = [\"Naga, Bicol Region, 4400, Philippines\", \"Camarines Sur\"]\n",
    "\n",
    "# Create an empty directed multigraph to combine all places\n",
    "combined_graph = nx.MultiDiGraph()"
   ]
  },
  {
   "cell_type": "markdown",
   "id": "aa3227d8-6523-4196-a3b0-f0675b13347f",
   "metadata": {},
   "source": [
    "### 2. Loop through each place and retrieve the graph for each"
   ]
  },
  {
   "cell_type": "code",
   "execution_count": 7,
   "id": "5b03c47e-c990-4103-80a6-906f75ff29e5",
   "metadata": {},
   "outputs": [],
   "source": [
    "# Loop through each place and retrieve the graph for each\n",
    "for place in places:\n",
    "    graph = ox.graph_from_place(place, custom_filter='[\"highway\"~\"motorway|trunk|primary|secondary|tertiary|unclassified|ferry\"]', network_type='drive')\n",
    "    combined_graph = nx.compose(combined_graph, graph)\n",
    "\n",
    "# Get the centroid of the combined places to initialize the map\n",
    "centroid = ox.geocode_to_gdf(places[0]).unary_union.centroid\n",
    "m = folium.Map(location=[centroid.y, centroid.x], zoom_start=8, tiles='OpenStreetMap')"
   ]
  },
  {
   "cell_type": "markdown",
   "id": "100489a0-3b2a-44e6-bec6-068b4b04fb16",
   "metadata": {},
   "source": []
  }
 ],
 "metadata": {
  "kernelspec": {
   "display_name": "Python 3 (ipykernel)",
   "language": "python",
   "name": "python3"
  },
  "language_info": {
   "codemirror_mode": {
    "name": "ipython",
    "version": 3
   },
   "file_extension": ".py",
   "mimetype": "text/x-python",
   "name": "python",
   "nbconvert_exporter": "python",
   "pygments_lexer": "ipython3",
   "version": "3.12.6"
  }
 },
 "nbformat": 4,
 "nbformat_minor": 5
}
