{
 "cells": [
  {
   "cell_type": "markdown",
   "id": "ddcd4a1a-cde4-48bf-8710-6c86165ab91a",
   "metadata": {},
   "source": [
    "## The goal is to fetch Bicol Region sea route transport network"
   ]
  },
  {
   "cell_type": "markdown",
   "id": "0a9cd577-1bbf-48f8-8490-261306723aca",
   "metadata": {},
   "source": [
    "### 0. Install dependencies"
   ]
  },
  {
   "cell_type": "code",
   "execution_count": 67,
   "id": "2b6fc2aa-2683-4f72-b93c-e71cc1ce1a95",
   "metadata": {},
   "outputs": [],
   "source": [
    "from folium.plugins import MarkerCluster\n",
    "import pandas as pd\n",
    "import osmnx as ox\n",
    "import networkx as nx\n",
    "import folium\n",
    "import os"
   ]
  },
  {
   "cell_type": "markdown",
   "id": "9cd6c345-5eb9-4ef4-8f4a-9f34d8997108",
   "metadata": {},
   "source": [
    "### 1. Define the places and create a directed empty multigraph to combine all places"
   ]
  },
  {
   "cell_type": "code",
   "execution_count": 72,
   "id": "73e40fa3-a810-4a0f-a5ce-8ab7ed06b25a",
   "metadata": {},
   "outputs": [
    {
     "name": "stderr",
     "output_type": "stream",
     "text": [
      "C:\\Users\\ADMIN\\miniconda3\\envs\\ox\\Lib\\site-packages\\osmnx\\_overpass.py:254: UserWarning: This area is 17 times your configured Overpass max query area size. It will automatically be divided up into multiple sub-queries accordingly. This may take a long time.\n",
      "  multi_poly_proj = utils_geo._consolidate_subdivide_geometry(poly_proj)\n"
     ]
    }
   ],
   "source": [
    "# Define the individual places in Bicol Region\n",
    "places = [\"Catanduanes, Philippines\", \"Masbate, Philippines\", \"Albay, Philippines\"]\n",
    "\n",
    "# Create an empty directed multigraph to combine all places\n",
    "combined_graph = nx.MultiDiGraph()\n",
    "\n",
    "# Loop through each place and retrieve the graph for ferry routes\n",
    "for place in places:\n",
    "    # Use a filter specifically for ferry routes\n",
    "    graph = ox.graph_from_place(place, custom_filter='[\"route\"~\"ferry\"]', network_type='all')\n",
    "    combined_graph = nx.compose(combined_graph, graph)\n",
    "\n",
    "# Get the centroid of one of the places to initialize the map\n",
    "centroid = ox.geocode_to_gdf(places[0]).unary_union.centroid\n",
    "m = folium.Map(location=[centroid.y, centroid.x], zoom_start=8, tiles='OpenStreetMap')\n",
    "\n",
    "# Get the edges GeoDataFrame (for ferry routes)\n",
    "gdf_edges = ox.graph_to_gdfs(combined_graph, nodes=False, edges=True)\n",
    "\n",
    "# Add the edges (ferry routes) to the map\n",
    "for _, edge in gdf_edges.iterrows():\n",
    "    points = [(y, x) for x, y in edge['geometry'].coords]\n",
    "    folium.PolyLine(points, color=\"blue\", weight=2.5, opacity=0.8).add_to(m)\n",
    "\n",
    "# Create the directory if it doesn't exist\n",
    "if not os.path.exists(\"html-outputs\"):\n",
    "    os.makedirs(\"html-outputs\")\n",
    "\n",
    "# Save the map inside the 'html-outputs' folder\n",
    "m.save(\"html-outputs/bicol_ferry_routes.html\")"
   ]
  },
  {
   "cell_type": "markdown",
   "id": "aa3227d8-6523-4196-a3b0-f0675b13347f",
   "metadata": {},
   "source": [
    "### 2. Loop through each place and retrieve the graph for each"
   ]
  },
  {
   "cell_type": "code",
   "execution_count": null,
   "id": "7cf030fb-69f3-4a59-bc0a-c959d25581e4",
   "metadata": {},
   "outputs": [],
   "source": []
  }
 ],
 "metadata": {
  "kernelspec": {
   "display_name": "Python 3 (ipykernel)",
   "language": "python",
   "name": "python3"
  },
  "language_info": {
   "codemirror_mode": {
    "name": "ipython",
    "version": 3
   },
   "file_extension": ".py",
   "mimetype": "text/x-python",
   "name": "python",
   "nbconvert_exporter": "python",
   "pygments_lexer": "ipython3",
   "version": "3.12.6"
  }
 },
 "nbformat": 4,
 "nbformat_minor": 5
}
