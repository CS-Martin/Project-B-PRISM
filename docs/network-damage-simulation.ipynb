{
 "cells": [
  {
   "cell_type": "code",
   "execution_count": 2,
   "id": "e63cd7bb-8393-4fb8-a53c-e838683d1908",
   "metadata": {},
   "outputs": [],
   "source": [
    "import osmnx as ox\n",
    "import networkx as nx\n",
    "import folium"
   ]
  },
  {
   "cell_type": "code",
   "execution_count": 2,
   "id": "a22ab23f-17ce-48af-8578-9ceefd6204ec",
   "metadata": {},
   "outputs": [],
   "source": [
    "import osmnx as ox\n",
    "import networkx as nx\n",
    "import folium\n",
    "\n",
    "# Define the individual places in Bicol Region\n",
    "places = [\"Naga, Bicol Region, 4400, Philippines\", \"Camarines Sur\"]\n",
    "\n",
    "# Coordinates of Barangay Halls\n",
    "brgy = [\n",
    "    {\"province\": \"Camarines Sur\", \"City\": \"Naga\", \"barangay\": \"Cararayan\", \"lat\": 13.628834653694073, \"lon\": 123.24006454110972}\n",
    "]\n",
    "\n",
    "# Create an empty directed multigraph to combine all places\n",
    "combined_graph = nx.MultiDiGraph()\n",
    "\n",
    "# Loop through each place and retrieve the graph for each\n",
    "for place in places:\n",
    "    graph = ox.graph_from_place(place, custom_filter='[\"highway\"~\"motorway|trunk|primary|secondary|tertiary|unclassified|ferry\"]', network_type='drive')\n",
    "    combined_graph = nx.compose(combined_graph, graph)\n",
    "\n",
    "# Get the centroid of the combined places to initialize the map\n",
    "centroid = ox.geocode_to_gdf(places[0]).unary_union.centroid\n",
    "m = folium.Map(location=[centroid.y, centroid.x], zoom_start=8, tiles='OpenStreetMap')\n",
    "\n",
    "# Find the nearest nodes for each Barangay Hall and simulate damage\n",
    "for barangay in brgy:\n",
    "    nearest_node = ox.distance.nearest_nodes(combined_graph, barangay['lon'], barangay['lat'])\n",
    "\n",
    "    # Mark this node as \"damaged\" on the map before removing it\n",
    "    folium.Marker(\n",
    "        location=[barangay['lat'], barangay['lon']],\n",
    "        popup=f\"{barangay['barangay']} - Damaged\",\n",
    "        icon=folium.Icon(color='red', icon='exclamation-sign')\n",
    "    ).add_to(m)\n",
    "    \n",
    "    # Remove the node and its connected edges to simulate network damage\n",
    "    if nearest_node in combined_graph:\n",
    "        combined_graph.remove_node(nearest_node)\n",
    "\n",
    "# Get the edges and nodes GeoDataFrames after node removal\n",
    "gdf_nodes, gdf_edges = ox.graph_to_gdfs(combined_graph, nodes=True, edges=True)\n",
    "\n",
    "# Add the remaining edges (roads and sea routes) to the map\n",
    "for _, edge in gdf_edges.iterrows():\n",
    "    points = [(y, x) for x, y in edge['geometry'].coords]\n",
    "    folium.PolyLine(points, color=\"darkred\", weight=1.5, opacity=0.6).add_to(m)\n",
    "\n",
    "# Add the remaining nodes (intersections) to the map\n",
    "for _, node in gdf_nodes.iterrows():\n",
    "    folium.CircleMarker(location=[node['y'], node['x']],\n",
    "                        radius=3, color='blue', fill=True, fill_opacity=0.8).add_to(m)\n",
    "\n",
    "m.save(\"damaged_network_with_markers.html\")"
   ]
  },
  {
   "cell_type": "code",
   "execution_count": null,
   "id": "4e3db88b-93b5-442e-8894-ec6d4db0d679",
   "metadata": {},
   "outputs": [],
   "source": []
  }
 ],
 "metadata": {
  "kernelspec": {
   "display_name": "Python 3 (ipykernel)",
   "language": "python",
   "name": "python3"
  },
  "language_info": {
   "codemirror_mode": {
    "name": "ipython",
    "version": 3
   },
   "file_extension": ".py",
   "mimetype": "text/x-python",
   "name": "python",
   "nbconvert_exporter": "python",
   "pygments_lexer": "ipython3",
   "version": "3.12.6"
  }
 },
 "nbformat": 4,
 "nbformat_minor": 5
}
