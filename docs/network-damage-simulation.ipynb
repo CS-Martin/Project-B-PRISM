{
 "cells": [
  {
   "cell_type": "code",
   "execution_count": 2,
   "id": "e63cd7bb-8393-4fb8-a53c-e838683d1908",
   "metadata": {},
   "outputs": [],
   "source": [
    "import osmnx as ox\n",
    "import networkx as nx\n",
    "import folium"
   ]
  },
  {
   "cell_type": "code",
   "execution_count": 4,
   "id": "a22ab23f-17ce-48af-8578-9ceefd6204ec",
   "metadata": {},
   "outputs": [
    {
     "ename": "TypeError",
     "evalue": "Nominatim could not geocode query 'Naga City, Philippines' to a geometry of type (Multi)Polygon",
     "output_type": "error",
     "traceback": [
      "\u001b[1;31m---------------------------------------------------------------------------\u001b[0m",
      "\u001b[1;31mTypeError\u001b[0m                                 Traceback (most recent call last)",
      "Cell \u001b[1;32mIn[4], line 18\u001b[0m\n\u001b[0;32m     16\u001b[0m \u001b[38;5;66;03m# Loop through each place and retrieve the graph for each\u001b[39;00m\n\u001b[0;32m     17\u001b[0m \u001b[38;5;28;01mfor\u001b[39;00m place \u001b[38;5;129;01min\u001b[39;00m places:\n\u001b[1;32m---> 18\u001b[0m     graph \u001b[38;5;241m=\u001b[39m \u001b[43mox\u001b[49m\u001b[38;5;241;43m.\u001b[39;49m\u001b[43mgraph_from_place\u001b[49m\u001b[43m(\u001b[49m\u001b[43mplace\u001b[49m\u001b[43m,\u001b[49m\u001b[43m \u001b[49m\u001b[43mcustom_filter\u001b[49m\u001b[38;5;241;43m=\u001b[39;49m\u001b[38;5;124;43m'\u001b[39;49m\u001b[38;5;124;43m[\u001b[39;49m\u001b[38;5;124;43m\"\u001b[39;49m\u001b[38;5;124;43mhighway\u001b[39;49m\u001b[38;5;124;43m\"\u001b[39;49m\u001b[38;5;124;43m~\u001b[39;49m\u001b[38;5;124;43m\"\u001b[39;49m\u001b[38;5;124;43mmotorway|trunk|primary|secondary|tertiary|unclassified|ferry\u001b[39;49m\u001b[38;5;124;43m\"\u001b[39;49m\u001b[38;5;124;43m]\u001b[39;49m\u001b[38;5;124;43m'\u001b[39;49m\u001b[43m,\u001b[49m\u001b[43m \u001b[49m\u001b[43mnetwork_type\u001b[49m\u001b[38;5;241;43m=\u001b[39;49m\u001b[38;5;124;43m'\u001b[39;49m\u001b[38;5;124;43mdrive\u001b[39;49m\u001b[38;5;124;43m'\u001b[39;49m\u001b[43m)\u001b[49m\n\u001b[0;32m     19\u001b[0m     combined_graph \u001b[38;5;241m=\u001b[39m nx\u001b[38;5;241m.\u001b[39mcompose(combined_graph, graph)\n\u001b[0;32m     21\u001b[0m \u001b[38;5;66;03m# Get the centroid of the combined places to initialize the map\u001b[39;00m\n",
      "File \u001b[1;32m~\\miniconda3\\envs\\ox\\Lib\\site-packages\\osmnx\\graph.py:387\u001b[0m, in \u001b[0;36mgraph_from_place\u001b[1;34m(query, network_type, simplify, retain_all, truncate_by_edge, which_result, buffer_dist, clean_periphery, custom_filter)\u001b[0m\n\u001b[0;32m    383\u001b[0m \u001b[38;5;66;03m# create a GeoDataFrame with the spatial boundaries of the place(s)\u001b[39;00m\n\u001b[0;32m    384\u001b[0m \u001b[38;5;28;01mif\u001b[39;00m \u001b[38;5;28misinstance\u001b[39m(query, (\u001b[38;5;28mstr\u001b[39m, \u001b[38;5;28mdict\u001b[39m)):\n\u001b[0;32m    385\u001b[0m     \u001b[38;5;66;03m# if it is a string (place name) or dict (structured place query),\u001b[39;00m\n\u001b[0;32m    386\u001b[0m     \u001b[38;5;66;03m# then it is a single place\u001b[39;00m\n\u001b[1;32m--> 387\u001b[0m     gdf_place \u001b[38;5;241m=\u001b[39m \u001b[43mgeocoder\u001b[49m\u001b[38;5;241;43m.\u001b[39;49m\u001b[43mgeocode_to_gdf\u001b[49m\u001b[43m(\u001b[49m\n\u001b[0;32m    388\u001b[0m \u001b[43m        \u001b[49m\u001b[43mquery\u001b[49m\u001b[43m,\u001b[49m\u001b[43m \u001b[49m\u001b[43mwhich_result\u001b[49m\u001b[38;5;241;43m=\u001b[39;49m\u001b[43mwhich_result\u001b[49m\u001b[43m,\u001b[49m\u001b[43m \u001b[49m\u001b[43mbuffer_dist\u001b[49m\u001b[38;5;241;43m=\u001b[39;49m\u001b[43mbuffer_dist\u001b[49m\n\u001b[0;32m    389\u001b[0m \u001b[43m    \u001b[49m\u001b[43m)\u001b[49m\n\u001b[0;32m    390\u001b[0m \u001b[38;5;28;01melif\u001b[39;00m \u001b[38;5;28misinstance\u001b[39m(query, \u001b[38;5;28mlist\u001b[39m):\n\u001b[0;32m    391\u001b[0m     \u001b[38;5;66;03m# if it is a list, it contains multiple places to get\u001b[39;00m\n\u001b[0;32m    392\u001b[0m     gdf_place \u001b[38;5;241m=\u001b[39m geocoder\u001b[38;5;241m.\u001b[39mgeocode_to_gdf(query, buffer_dist\u001b[38;5;241m=\u001b[39mbuffer_dist)\n",
      "File \u001b[1;32m~\\miniconda3\\envs\\ox\\Lib\\site-packages\\osmnx\\geocoder.py:139\u001b[0m, in \u001b[0;36mgeocode_to_gdf\u001b[1;34m(query, which_result, by_osmid, buffer_dist)\u001b[0m\n\u001b[0;32m    137\u001b[0m gdf \u001b[38;5;241m=\u001b[39m gpd\u001b[38;5;241m.\u001b[39mGeoDataFrame()\n\u001b[0;32m    138\u001b[0m \u001b[38;5;28;01mfor\u001b[39;00m q, wr \u001b[38;5;129;01min\u001b[39;00m \u001b[38;5;28mzip\u001b[39m(query, which_result):\n\u001b[1;32m--> 139\u001b[0m     gdf \u001b[38;5;241m=\u001b[39m pd\u001b[38;5;241m.\u001b[39mconcat([gdf, \u001b[43m_geocode_query_to_gdf\u001b[49m\u001b[43m(\u001b[49m\u001b[43mq\u001b[49m\u001b[43m,\u001b[49m\u001b[43m \u001b[49m\u001b[43mwr\u001b[49m\u001b[43m,\u001b[49m\u001b[43m \u001b[49m\u001b[43mby_osmid\u001b[49m\u001b[43m)\u001b[49m])\n\u001b[0;32m    141\u001b[0m \u001b[38;5;66;03m# reset GeoDataFrame index and set its CRS\u001b[39;00m\n\u001b[0;32m    142\u001b[0m gdf \u001b[38;5;241m=\u001b[39m gdf\u001b[38;5;241m.\u001b[39mreset_index(drop\u001b[38;5;241m=\u001b[39m\u001b[38;5;28;01mTrue\u001b[39;00m)\n",
      "File \u001b[1;32m~\\miniconda3\\envs\\ox\\Lib\\site-packages\\osmnx\\geocoder.py:194\u001b[0m, in \u001b[0;36m_geocode_query_to_gdf\u001b[1;34m(query, which_result, by_osmid)\u001b[0m\n\u001b[0;32m    190\u001b[0m     result \u001b[38;5;241m=\u001b[39m results[\u001b[38;5;241m0\u001b[39m]\n\u001b[0;32m    192\u001b[0m \u001b[38;5;28;01melif\u001b[39;00m which_result \u001b[38;5;129;01mis\u001b[39;00m \u001b[38;5;28;01mNone\u001b[39;00m:\n\u001b[0;32m    193\u001b[0m     \u001b[38;5;66;03m# else, if which_result=None, auto-select the first (Multi)Polygon\u001b[39;00m\n\u001b[1;32m--> 194\u001b[0m     result \u001b[38;5;241m=\u001b[39m \u001b[43m_get_first_polygon\u001b[49m\u001b[43m(\u001b[49m\u001b[43mresults\u001b[49m\u001b[43m,\u001b[49m\u001b[43m \u001b[49m\u001b[43mquery\u001b[49m\u001b[43m)\u001b[49m\n\u001b[0;32m    196\u001b[0m \u001b[38;5;28;01melif\u001b[39;00m \u001b[38;5;28mlen\u001b[39m(results) \u001b[38;5;241m>\u001b[39m\u001b[38;5;241m=\u001b[39m which_result:\n\u001b[0;32m    197\u001b[0m     \u001b[38;5;66;03m# else, if we got at least which_result results, choose that one\u001b[39;00m\n\u001b[0;32m    198\u001b[0m     result \u001b[38;5;241m=\u001b[39m results[which_result \u001b[38;5;241m-\u001b[39m \u001b[38;5;241m1\u001b[39m]\n",
      "File \u001b[1;32m~\\miniconda3\\envs\\ox\\Lib\\site-packages\\osmnx\\geocoder.py:259\u001b[0m, in \u001b[0;36m_get_first_polygon\u001b[1;34m(results, query)\u001b[0m\n\u001b[0;32m    257\u001b[0m \u001b[38;5;66;03m# if we never found a polygon, throw an error\u001b[39;00m\n\u001b[0;32m    258\u001b[0m msg \u001b[38;5;241m=\u001b[39m \u001b[38;5;124mf\u001b[39m\u001b[38;5;124m\"\u001b[39m\u001b[38;5;124mNominatim could not geocode query \u001b[39m\u001b[38;5;132;01m{\u001b[39;00mquery\u001b[38;5;132;01m!r}\u001b[39;00m\u001b[38;5;124m to a geometry of type (Multi)Polygon\u001b[39m\u001b[38;5;124m\"\u001b[39m\n\u001b[1;32m--> 259\u001b[0m \u001b[38;5;28;01mraise\u001b[39;00m \u001b[38;5;167;01mTypeError\u001b[39;00m(msg)\n",
      "\u001b[1;31mTypeError\u001b[0m: Nominatim could not geocode query 'Naga City, Philippines' to a geometry of type (Multi)Polygon"
     ]
    }
   ],
   "source": [
    "import osmnx as ox\n",
    "import networkx as nx\n",
    "import folium\n",
    "\n",
    "# Define the individual places in Bicol Region\n",
    "places = [\"Naga City, Philippines\"]\n",
    "\n",
    "# Coordinates of Barangay Halls\n",
    "brgy = [\n",
    "    {\"province\": \"Camarines Sur\", \"City\": \"Naga\", \"barangay\": \"Cararayan\", \"lat\": 13.628834653694073, \"lon\": 123.24006454110972}\n",
    "]\n",
    "\n",
    "# Create an empty directed multigraph to combine all places\n",
    "combined_graph = nx.MultiDiGraph()\n",
    "\n",
    "# Loop through each place and retrieve the graph for each\n",
    "for place in places:\n",
    "    graph = ox.graph_from_place(place, custom_filter='[\"highway\"~\"motorway|trunk|primary|secondary|tertiary|unclassified|ferry\"]', network_type='drive')\n",
    "    combined_graph = nx.compose(combined_graph, graph)\n",
    "\n",
    "# Get the centroid of the combined places to initialize the map\n",
    "centroid = ox.geocode_to_gdf(places[0]).unary_union.centroid\n",
    "m = folium.Map(location=[centroid.y, centroid.x], zoom_start=8, tiles='OpenStreetMap')\n",
    "\n",
    "# Find the nearest nodes for each Barangay Hall and simulate damage\n",
    "for barangay in brgy:\n",
    "    nearest_node = ox.distance.nearest_nodes(combined_graph, barangay['lon'], barangay['lat'])\n",
    "\n",
    "    # Mark this node as \"damaged\" on the map before removing it\n",
    "    folium.Marker(\n",
    "        location=[barangay['lat'], barangay['lon']],\n",
    "        popup=f\"{barangay['barangay']} - Damaged\",\n",
    "        icon=folium.Icon(color='red', icon='exclamation-sign')\n",
    "    ).add_to(m)\n",
    "    \n",
    "    # Remove the node and its connected edges to simulate network damage\n",
    "    if nearest_node in combined_graph:\n",
    "        combined_graph.remove_node(nearest_node)\n",
    "\n",
    "# Get the edges and nodes GeoDataFrames after node removal\n",
    "gdf_nodes, gdf_edges = ox.graph_to_gdfs(combined_graph, nodes=True, edges=True)\n",
    "\n",
    "# Add the remaining edges (roads and sea routes) to the map\n",
    "for _, edge in gdf_edges.iterrows():\n",
    "    points = [(y, x) for x, y in edge['geometry'].coords]\n",
    "    folium.PolyLine(points, color=\"darkred\", weight=1.5, opacity=0.6).add_to(m)\n",
    "\n",
    "# Add the remaining nodes (intersections) to the map\n",
    "for _, node in gdf_nodes.iterrows():\n",
    "    folium.CircleMarker(location=[node['y'], node['x']],\n",
    "                        radius=3, color='blue', fill=True, fill_opacity=0.8).add_to(m)\n",
    "\n",
    "m.save(\"damaged_network_with_markers.html\")"
   ]
  },
  {
   "cell_type": "code",
   "execution_count": null,
   "id": "4e3db88b-93b5-442e-8894-ec6d4db0d679",
   "metadata": {},
   "outputs": [],
   "source": []
  }
 ],
 "metadata": {
  "kernelspec": {
   "display_name": "Python 3 (ipykernel)",
   "language": "python",
   "name": "python3"
  },
  "language_info": {
   "codemirror_mode": {
    "name": "ipython",
    "version": 3
   },
   "file_extension": ".py",
   "mimetype": "text/x-python",
   "name": "python",
   "nbconvert_exporter": "python",
   "pygments_lexer": "ipython3",
   "version": "3.12.6"
  }
 },
 "nbformat": 4,
 "nbformat_minor": 5
}
