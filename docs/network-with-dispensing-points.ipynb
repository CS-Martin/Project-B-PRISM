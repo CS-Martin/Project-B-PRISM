{
 "cells": [
  {
   "cell_type": "code",
   "execution_count": 43,
   "id": "e63cd7bb-8393-4fb8-a53c-e838683d1908",
   "metadata": {},
   "outputs": [],
   "source": [
    "import pandas as pd\n",
    "import osmnx as ox\n",
    "import networkx as nx\n",
    "import folium\n",
    "import os"
   ]
  },
  {
   "cell_type": "code",
   "execution_count": 44,
   "id": "a22ab23f-17ce-48af-8578-9ceefd6204ec",
   "metadata": {},
   "outputs": [],
   "source": [
    "# Define the individual places in Bicol Region\n",
    "places = [\"Naga, Bicol Region, 4400, Philippines\", \"Camarines Sur\"]\n",
    "\n",
    "# Coordinates of Barangay Halls\n",
    "brgy = [\n",
    "    {\"province\": \"Camarines Sur\", \"City\": \"Naga\", \"barangay\": \"Cararayan\", \"lat\": 13.628834653694073, \"lon\": 123.24006454110972}\n",
    "]\n",
    "\n",
    "# Create an empty directed multigraph to combine all places\n",
    "combined_graph = nx.MultiDiGraph()"
   ]
  },
  {
   "cell_type": "code",
   "execution_count": 45,
   "id": "2fce8d3b-82f0-40b7-a0bc-6592f9069c07",
   "metadata": {},
   "outputs": [
    {
     "name": "stdout",
     "output_type": "stream",
     "text": [
      "       Type Island group                   Region Province Municipality  \\\n",
      "0  barangay        Luzon  Bicol Region (Region V)    Albay      Bacacay   \n",
      "1  barangay        Luzon  Bicol Region (Region V)    Albay      Bacacay   \n",
      "2  barangay        Luzon  Bicol Region (Region V)    Albay      Bacacay   \n",
      "3  barangay        Luzon  Bicol Region (Region V)    Albay      Bacacay   \n",
      "4  barangay        Luzon  Bicol Region (Region V)    Albay      Bacacay   \n",
      "\n",
      "   Postal code  Population (2020) Philippine major island(s)  \\\n",
      "0         4509               2849                      Luzon   \n",
      "1         4509               1565                      Luzon   \n",
      "2         4509               1458                      Luzon   \n",
      "3         4509                770                      Luzon   \n",
      "4         4509                180                      Luzon   \n",
      "\n",
      "                                        Coordinates  \\\n",
      "0  13.2852, 123.7930 (13° 17' North, 123° 48' East)   \n",
      "1  13.2559, 123.8147 (13° 15' North, 123° 49' East)   \n",
      "2  13.2962, 123.7938 (13° 18' North, 123° 48' East)   \n",
      "3  13.2925, 123.7887 (13° 18' North, 123° 47' East)   \n",
      "4  13.2924, 123.7910 (13° 18' North, 123° 47' East)   \n",
      "\n",
      "  Estimated elevation above sea level City  \n",
      "0             14.5 meters (47.6 feet)  NaN  \n",
      "1            38.9 meters (127.6 feet)  NaN  \n",
      "2               2.5 meters (8.2 feet)  NaN  \n",
      "3              6.0 meters (19.7 feet)  NaN  \n",
      "4              5.1 meters (16.7 feet)  NaN  \n"
     ]
    }
   ],
   "source": [
    "# Get path to barangay dataset\n",
    "file_path = os.path.join('..', 'dataset', 'barangay')\n",
    "\n",
    "# Save the barangays\n",
    "df = pd.read_csv(file_path, delimiter=\"|\")\n",
    "\n",
    "print(df.head())"
   ]
  },
  {
   "cell_type": "code",
   "execution_count": 46,
   "id": "345d7a84-11a3-40d6-b4be-2a1681548a3d",
   "metadata": {},
   "outputs": [
    {
     "name": "stdout",
     "output_type": "stream",
     "text": [
      "       lat       lon\n",
      "0  13.2852  123.7930\n",
      "1  13.2559  123.8147\n",
      "2  13.2962  123.7938\n",
      "3  13.2925  123.7887\n",
      "4  13.2924  123.7910\n"
     ]
    }
   ],
   "source": [
    "df[['lat', 'lon']] = df['Coordinates'].str.extract(r'([0-9.]+),\\s([0-9.]+)')\n",
    "\n",
    "print(df[['lat', 'lon']].head())"
   ]
  },
  {
   "cell_type": "code",
   "execution_count": 47,
   "id": "4e3db88b-93b5-442e-8894-ec6d4db0d679",
   "metadata": {},
   "outputs": [],
   "source": [
    "# Loop through each place and retrieve the graph for each\n",
    "for place in places:\n",
    "    graph = ox.graph_from_place(place, custom_filter='[\"highway\"~\"motorway|trunk|primary|secondary|tertiary|unclassified|ferry\"]', network_type='drive')\n",
    "    combined_graph = nx.compose(combined_graph, graph)\n",
    "\n",
    "# Get the centroid of the combined places to initialize the map\n",
    "centroid = ox.geocode_to_gdf(places[0]).unary_union.centroid\n",
    "m = folium.Map(location=[centroid.y, centroid.x], zoom_start=8, tiles='OpenStreetMap')"
   ]
  },
  {
   "cell_type": "code",
   "execution_count": 48,
   "id": "f3bebd10-0ce9-4f7e-aa54-c187a15caba8",
   "metadata": {},
   "outputs": [],
   "source": [
    "# Get the edges and nodes GeoDataFrames after node removal\n",
    "gdf_nodes, gdf_edges = ox.graph_to_gdfs(combined_graph, nodes=True, edges=True)\n",
    "\n",
    "# Add the remaining edges (roads and sea routes) to the map\n",
    "for _, edge in gdf_edges.iterrows():\n",
    "    points = [(y, x) for x, y in edge['geometry'].coords]\n",
    "    folium.PolyLine(points, color=\"darkred\", weight=1.5, opacity=0.6).add_to(m)\n",
    "\n",
    "# Add the remaining nodes (intersections) to the map\n",
    "# for _, node in gdf_nodes.iterrows():\n",
    "#     folium.CircleMarker(location=[node['y'], node['x']],\n",
    "#                         radius=3, color='blue', fill=True, fill_opacity=0.8).add_to(m)"
   ]
  },
  {
   "cell_type": "code",
   "execution_count": 49,
   "id": "5d7ee27d-0cf1-4596-9517-a50baf9cda46",
   "metadata": {},
   "outputs": [],
   "source": [
    "from folium.plugins import MarkerCluster\n",
    "\n",
    "marker_cluster = MarkerCluster().add_to(m)\n",
    "\n",
    "# Add barangays as clustered dispensing points\n",
    "for _, row in df.iterrows():\n",
    "    folium.Marker(location=[row['lat'], row['lon']],\n",
    "                  icon=folium.Icon(color='green', icon='info-sign')).add_to(marker_cluster)"
   ]
  },
  {
   "cell_type": "code",
   "execution_count": 50,
   "id": "2bacd918-29f5-44cc-9c6c-6bb63df3f210",
   "metadata": {},
   "outputs": [],
   "source": [
    "# Create the directory if it doesn't exist\n",
    "if not os.path.exists(\"html-outputs\"):\n",
    "    os.makedirs(\"html-outputs\")\n",
    "\n",
    "# Save the map inside the 'html-outputs' folder\n",
    "m.save(\"html-outputs/network-with-dispensing-points.html\")"
   ]
  },
  {
   "cell_type": "code",
   "execution_count": null,
   "id": "ac4a292c-290b-41ef-9b09-b23c5940ee81",
   "metadata": {},
   "outputs": [],
   "source": []
  }
 ],
 "metadata": {
  "kernelspec": {
   "display_name": "Python 3 (ipykernel)",
   "language": "python",
   "name": "python3"
  },
  "language_info": {
   "codemirror_mode": {
    "name": "ipython",
    "version": 3
   },
   "file_extension": ".py",
   "mimetype": "text/x-python",
   "name": "python",
   "nbconvert_exporter": "python",
   "pygments_lexer": "ipython3",
   "version": "3.12.6"
  }
 },
 "nbformat": 4,
 "nbformat_minor": 5
}
