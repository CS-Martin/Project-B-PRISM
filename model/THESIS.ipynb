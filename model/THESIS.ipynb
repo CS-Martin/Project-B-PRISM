{
 "cells": [
  {
   "cell_type": "code",
   "execution_count": 21,
   "id": "e63cd7bb-8393-4fb8-a53c-e838683d1908",
   "metadata": {},
   "outputs": [],
   "source": [
    "import osmnx as ox\n",
    "import networkx as nx\n",
    "import folium"
   ]
  },
  {
   "cell_type": "code",
   "execution_count": 28,
   "id": "a22ab23f-17ce-48af-8578-9ceefd6204ec",
   "metadata": {},
   "outputs": [
    {
     "name": "stderr",
     "output_type": "stream",
     "text": [
      "C:\\Users\\ADMIN\\miniconda3\\envs\\ox\\Lib\\site-packages\\osmnx\\_overpass.py:254: UserWarning: This area is 25 times your configured Overpass max query area size. It will automatically be divided up into multiple sub-queries accordingly. This may take a long time.\n",
      "  multi_poly_proj = utils_geo._consolidate_subdivide_geometry(poly_proj)\n"
     ]
    }
   ],
   "source": [
    "# Define the individual places in Bicol Region\n",
    "places = [\"Masbate, Philippines\", \"Bicol Region, Philippines\", \"Catanduanes, Philippines\"]\n",
    "\n",
    "# Create an empty directed multigraph to combine all places\n",
    "combined_graph = nx.MultiDiGraph()\n",
    "\n",
    "# Loop through each place and retrieve the graph for each\n",
    "for place in places:\n",
    "    graph = ox.graph_from_place(place, custom_filter='[\"highway\"~\"motorway|trunk|primary|secondary|tertiary|unclassified|ferry\"]', network_type='drive')\n",
    "    combined_graph = nx.compose(combined_graph, graph)\n",
    "\n",
    "# Get the edges and nodes GeoDataFrames\n",
    "gdf_nodes, gdf_edges = ox.graph_to_gdfs(combined_graph, nodes=True, edges=True)\n",
    "\n",
    "# Get the centroid of the combined places to initialize the map\n",
    "centroid = ox.geocode_to_gdf(places[0]).unary_union.centroid\n",
    "m = folium.Map(location=[centroid.y, centroid.x], zoom_start=8, tiles='OpenStreetMap')\n",
    "\n",
    "# Add the edges (roads and sea routes) to the map\n",
    "for _, edge in gdf_edges.iterrows():\n",
    "    points = [(y, x) for x, y in edge['geometry'].coords]\n",
    "    folium.PolyLine(points, color=\"darkred\", weight=1.5, opacity=0.6).add_to(m)\n",
    "\n",
    "# Add the nodes (intersections) to the map\n",
    "for _, node in gdf_nodes.iterrows():\n",
    "    folium.CircleMarker(location=[node['y'], node['x']],\n",
    "                        radius=3, color='blue', fill=True, fill_opacity=0.8).add_to(m)\n",
    "\n",
    "# Save the map\n",
    "m.save(\"network.html\")"
   ]
  },
  {
   "cell_type": "code",
   "execution_count": null,
   "id": "c0d69cd3-3546-4211-a921-e2a2ffaabe13",
   "metadata": {},
   "outputs": [],
   "source": []
  }
 ],
 "metadata": {
  "kernelspec": {
   "display_name": "Python 3 (ipykernel)",
   "language": "python",
   "name": "python3"
  },
  "language_info": {
   "codemirror_mode": {
    "name": "ipython",
    "version": 3
   },
   "file_extension": ".py",
   "mimetype": "text/x-python",
   "name": "python",
   "nbconvert_exporter": "python",
   "pygments_lexer": "ipython3",
   "version": "3.12.6"
  }
 },
 "nbformat": 4,
 "nbformat_minor": 5
}
