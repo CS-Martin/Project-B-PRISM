{
 "cells": [
  {
   "cell_type": "code",
   "execution_count": 2,
   "id": "e63cd7bb-8393-4fb8-a53c-e838683d1908",
   "metadata": {},
   "outputs": [],
   "source": [
    "import osmnx as ox\n",
    "import networkx as nx\n",
    "import folium"
   ]
  },
  {
   "cell_type": "code",
   "execution_count": 45,
   "id": "a22ab23f-17ce-48af-8578-9ceefd6204ec",
   "metadata": {},
   "outputs": [],
   "source": [
    "# Get the road network for Bicol Region with additional highway types\n",
    "place_name = [\"Naga, Philippines\", \"Camarines Sur\"]\n",
    "custom_filter = '[\"highway\"~\"motorway|trunk|primary|secondary|tertiary|unclassified\"]'\n",
    "graph = ox.graph_from_place(place_name, custom_filter=custom_filter)\n",
    "\n",
    "# Coordinates of Barangay Halls (dispensing points)\n",
    "dispensing_points = [\n",
    "    {\"province\": \"Camarines Sur\", \"City\": \"Naga\", \"barangay\": \"Cararayan\", \"lat\": 13.628834653694073, \"lon\": 123.24006454110972},\n",
    "    # Add more barangay hall locations here\n",
    "]\n",
    "\n",
    "# Creating new node for dispensing points doesn't work, so\n",
    "# Just find the nearest nodes for each dispensing point and use it as the actual dp\n",
    "for barangay in dispensing_points:\n",
    "    nearest_node = ox.distance.nearest_nodes(graph, barangay['lon'], barangay['lat'])\n",
    "    barangay['nearest_node'] = nearest_node\n",
    "\n",
    "# Get the edges GeoDataFrame (2nd item in the tuple)\n",
    "gdf_edges = ox.graph_to_gdfs(graph, nodes=False, edges=True)\n",
    "\n",
    "# Get the centroid of Bicol Region to initialize the map\n",
    "centroid = ox.geocode_to_gdf(place_name).unary_union.centroid\n",
    "m = folium.Map(location=[centroid.y, centroid.x], zoom_start=8, tiles='OpenStreetMap')\n",
    "\n",
    "# Add the edges (roads) to the map\n",
    "for _, edge in gdf_edges.iterrows():\n",
    "    points = [(y, x) for x, y in edge['geometry'].coords]\n",
    "    folium.PolyLine(points, color=\"darkred\", weight=1.2, opacity=0.3).add_to(m)\n",
    "\n",
    "# Add nearest node of Barangay Halls as nodes on the map\n",
    "for barangay in dispensing_points:\n",
    "    node = graph.nodes[barangay['nearest_node']]\n",
    "    folium.Marker(location=[node['y'], node['x']],\n",
    "                        radius=5, color='darkgreen', fill=True, fill_color='darkgreen', fill_opacity=1, icon=folium.Icon(color='darkgreen'),\n",
    "                        popup=f\"{barangay['barangay']}, {barangay['City']}, {barangay['province']}\").add_to(m)\n",
    "\n",
    "# Save the map\n",
    "m.save(\"bicol_region_with_dispensing_points.html\")"
   ]
  },
  {
   "cell_type": "code",
   "execution_count": null,
   "id": "c0d69cd3-3546-4211-a921-e2a2ffaabe13",
   "metadata": {},
   "outputs": [],
   "source": []
  }
 ],
 "metadata": {
  "kernelspec": {
   "display_name": "Python 3 (ipykernel)",
   "language": "python",
   "name": "python3"
  },
  "language_info": {
   "codemirror_mode": {
    "name": "ipython",
    "version": 3
   },
   "file_extension": ".py",
   "mimetype": "text/x-python",
   "name": "python",
   "nbconvert_exporter": "python",
   "pygments_lexer": "ipython3",
   "version": "3.12.6"
  }
 },
 "nbformat": 4,
 "nbformat_minor": 5
}
